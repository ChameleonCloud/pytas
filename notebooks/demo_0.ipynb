{
 "cells": [
  {
   "cell_type": "code",
   "execution_count": 1,
   "metadata": {
    "collapsed": true
   },
   "outputs": [],
   "source": [
    "import sys\n",
    "sys.path.append(\"/pytas\")"
   ]
  },
  {
   "cell_type": "code",
   "execution_count": 2,
   "metadata": {
    "collapsed": true
   },
   "outputs": [],
   "source": [
    "import os\n",
    "username = os.getenv('TAS_USERNAME')"
   ]
  },
  {
   "cell_type": "code",
   "execution_count": 3,
   "metadata": {
    "collapsed": false
   },
   "outputs": [],
   "source": [
    "from pytas.models import User"
   ]
  },
  {
   "cell_type": "code",
   "execution_count": 4,
   "metadata": {
    "collapsed": true
   },
   "outputs": [],
   "source": [
    "u = User(username=username)"
   ]
  },
  {
   "cell_type": "code",
   "execution_count": 5,
   "metadata": {
    "collapsed": false
   },
   "outputs": [
    {
     "data": {
      "text/plain": [
       "{u'citizenship': u'United States',\n",
       " u'citizenshipId': 230,\n",
       " u'country': u'United States',\n",
       " u'countryId': 230,\n",
       " u'department': u'Texas Advanced Computing Center',\n",
       " u'departmentId': 127,\n",
       " u'email': u'mrhanlon@tacc.utexas.edu',\n",
       " u'emailConfirmations': [],\n",
       " u'firstName': u'Matthew',\n",
       " 'id': 14263,\n",
       " u'institution': u'University of Texas at Austin',\n",
       " u'institutionId': 1,\n",
       " u'lastName': u'Hanlon',\n",
       " u'phone': u'512 232 5165',\n",
       " u'piEligibility': u'Eligible',\n",
       " u'source': u'Standard',\n",
       " u'title': u'Manager, Web and Mobile Applications',\n",
       " u'username': u'mrhanlon'}"
      ]
     },
     "execution_count": 5,
     "metadata": {},
     "output_type": "execute_result"
    }
   ],
   "source": [
    "u.as_dict()"
   ]
  },
  {
   "cell_type": "code",
   "execution_count": 6,
   "metadata": {
    "collapsed": false
   },
   "outputs": [],
   "source": [
    "u_projects = u.projects"
   ]
  },
  {
   "cell_type": "code",
   "execution_count": 7,
   "metadata": {
    "collapsed": false
   },
   "outputs": [
    {
     "data": {
      "text/plain": [
       "27"
      ]
     },
     "execution_count": 7,
     "metadata": {},
     "output_type": "execute_result"
    }
   ],
   "source": [
    "len(u_projects)"
   ]
  },
  {
   "cell_type": "code",
   "execution_count": 8,
   "metadata": {
    "collapsed": false
   },
   "outputs": [
    {
     "data": {
      "text/plain": [
       "{'allocations': [<pytas.models.projects.Allocation at 0x7fb6a9f7add0>,\n",
       "  <pytas.models.projects.Allocation at 0x7fb6a9f7ae10>,\n",
       "  <pytas.models.projects.Allocation at 0x7fb6a9f7ae50>],\n",
       " 'description': u'new xsede staff project',\n",
       " 'fieldId': 42,\n",
       " 'id': 8191,\n",
       " 'piId': 7177,\n",
       " 'source': u'TeraGrid Roaming',\n",
       " 'title': u'XSEDE SP TACC',\n",
       " 'typeId': 0}"
      ]
     },
     "execution_count": 8,
     "metadata": {},
     "output_type": "execute_result"
    }
   ],
   "source": [
    "u_projects[26].as_dict()"
   ]
  },
  {
   "cell_type": "code",
   "execution_count": 17,
   "metadata": {
    "collapsed": false
   },
   "outputs": [
    {
     "name": "stdout",
     "output_type": "stream",
     "text": [
      "CH-25927:\tMRH Testing\n",
      "CH-25930:\tTesting\n",
      "CH-25931:\t123 Go\n",
      "CH-25933:\tTesting 123\n",
      "CH-731458:\tMRH Testing 3\n",
      "CH-800325:\tMRH Testing 2\n",
      "CH-815721:\tTesting API 3\n",
      "CH-815723:\tTesting API 4\n",
      "CH-815724:\tTesting API 5\n",
      "CH-815725:\tTesting API 6\n",
      "CH-815726:\tSky Computing\n",
      "CH-815742:\tTesting project submission\n",
      "CH-815743:\tTesting new project again\n",
      "FG-74:\tSky Computing\n",
      "MRH-Testing:\tMRH Testing\n",
      "TACC-815719:\tTesting New API\n",
      "TACC-815720:\tTesting new API 2\n",
      "Mock-Proj:\tThis is a demo project.\n",
      "TACC-ACI:\tAdvanced Computing Interfaces' Project\n",
      "AdminRodeo:\tAdminRodeo\n",
      "akhil-test:\tAkhil Test Project\n",
      "FG-361:\tStreaming in the Clouds\n",
      "TACC-Team:\tTACC-Team\n",
      "TG-STA060001N:\tTG Staff Project: Portal Test Project\n",
      "TG-STA060015N:\tTG RP TACC\n",
      "TG-STA110012S:\tXSEDE 1.3 User Services\n",
      "TG-STA110019S:\tXSEDE SP TACC\n"
     ]
    }
   ],
   "source": [
    "for p in u_projects:\n",
    "    print '%s:\\t%s' % (p.chargeCode, p.title)"
   ]
  },
  {
   "cell_type": "code",
   "execution_count": 18,
   "metadata": {
    "collapsed": false
   },
   "outputs": [
    {
     "data": {
      "text/plain": [
       "{'allocations': [<pytas.models.projects.Allocation at 0x7fb6a9fab4d0>],\n",
       " 'description': u'Another test, with proper encoded body',\n",
       " 'fieldId': 3,\n",
       " 'id': 25943,\n",
       " 'piId': 14263,\n",
       " 'source': u'Chameleon',\n",
       " 'title': u'Testing API 6',\n",
       " 'typeId': 2}"
      ]
     },
     "execution_count": 18,
     "metadata": {},
     "output_type": "execute_result"
    }
   ],
   "source": [
    "u_projects[9].as_dict()"
   ]
  },
  {
   "cell_type": "code",
   "execution_count": 19,
   "metadata": {
    "collapsed": false
   },
   "outputs": [],
   "source": [
    "p_users = u_projects[9].get_users()"
   ]
  },
  {
   "cell_type": "code",
   "execution_count": 20,
   "metadata": {
    "collapsed": false
   },
   "outputs": [
    {
     "data": {
      "text/plain": [
       "{'id': 161155, u'role': u'PI', u'username': u'mrhanlon'}"
      ]
     },
     "execution_count": 20,
     "metadata": {},
     "output_type": "execute_result"
    }
   ],
   "source": [
    "p_users[0].as_dict()"
   ]
  },
  {
   "cell_type": "code",
   "execution_count": null,
   "metadata": {
    "collapsed": true
   },
   "outputs": [],
   "source": []
  }
 ],
 "metadata": {
  "kernelspec": {
   "display_name": "Python 2",
   "language": "python",
   "name": "python2"
  },
  "language_info": {
   "codemirror_mode": {
    "name": "ipython",
    "version": 2
   },
   "file_extension": ".py",
   "mimetype": "text/x-python",
   "name": "python",
   "nbconvert_exporter": "python",
   "pygments_lexer": "ipython2",
   "version": "2.7.6"
  }
 },
 "nbformat": 4,
 "nbformat_minor": 0
}
